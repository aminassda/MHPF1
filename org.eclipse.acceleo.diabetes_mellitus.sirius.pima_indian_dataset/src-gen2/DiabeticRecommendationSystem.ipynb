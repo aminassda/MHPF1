import pandas as pd
import seaborn as sns
import numpy as np
import matplotlib.pyplot as plt
from imblearn.over_sampling import SMOTE
from sklearn.naive_bayes import GaussianNB
from sklearn.ensemble import RandomForestClassifier,GradientBoostingClassifier,VotingClassifier
from sklearn.model_selection import cross_val_score,cross_val_predict,KFold
from sklearn.metrics import confusion_matrix,accuracy_score,classification_report
Dataset=pd.read_csv("drive/My Drive/Colab Notebooks/diabetes.csv")
Dataset.head()
Dataset.dtypes()
if(Dataset.isnull):
{
print ("Missing values in the dataset",Dataset.isnull().sum())
}
else:
{
print("Missing values in the dataset",Dataset.isnull().sum())
}


ax,fig = plt.subplots(figsize=(15,8))
sns.heatmap((Dataset.corr(),annot=True)

sns.boxplot(data=Dataset,x=Dataset["Pregnancies"])
plt.title("Boxplot of Pregnancies Column")

sns.boxplot(data=Dataset,x=Dataset["Glucose"])
plt.title("Boxplot of Glucose Column")

sns.boxplot(data=Dataset,x=Dataset["BloodPressure"])
plt.title("Boxplot of BloodPressure Column")

sns.boxplot(data=Dataset,x=Dataset["Skinthickness"])
plt.title("Boxplot of Skinthickness Column")

sns.boxplot(data=Dataset,x=Dataset["DiabetesPedigreeFunction"])
plt.title("Boxplot of DiabetesPedigreeFunction Column")

sns.boxplot(data=Dataset,x=Dataset["bmi"])
plt.title("Boxplot of BMI Column")

sns.boxplot(data=Dataset,x=Dataset["age"])
plt.title("Boxplot of Age Column")

plt.scatter(x="Glucose",y=Dataset)
plt.title("Scatter Plot with Linear fit")

plt.scatter(x="BloodPressure",y= Dataset)
plt.title("Scatter Plot with Linear fit")

plt.scatter(x="SkinThickness",y= Dataset)
plt.title("Scatter Plot with Linear fit")

plt.scatter(x="Insulin",y= Dataset)
plt.title("Scatter Plot with Linear fit")

plt.scatter(x="BMI",y= Dataset)
plt.title("Scatter Plot with Linear fit")

plt.scatter(x="DiabetesPedigreeFunction",y= Dataset)
plt.title("Scatter Plot with Linear fit")

plt.scatter(x="Age",y= Dataset)
plt.title("Scatter Plot with Linear fit")


