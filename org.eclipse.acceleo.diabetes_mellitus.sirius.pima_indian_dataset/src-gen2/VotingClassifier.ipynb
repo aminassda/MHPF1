
KFold=KFold(n_splits=3,random_state=17,shuffle=True)
VotingClassifier=VotingClassifier(estimators=[("RandomForestClassifier",RandomForestClassifier),("GaussianNB",GaussianNB),("GradientBoostingClassifier",GradientBoostingClassifier)])
labels=["GaussianNB","GradientBoostingClassifier,""RandomForestClassifier","VotingClassifier"]

for algo, labels in zip ([GaussianNB,GradientBoostingClassifier,RandomForestClassifier,VotingClassifier],labels):
print("Accuracy of Voting classifier",accuracy_score.mean())
DiabetesPrediction=cross_val_predict(VotingClassifier,x2,y2,cv=KFold)
accuracy_score(DiabetesPrediction,y2)
