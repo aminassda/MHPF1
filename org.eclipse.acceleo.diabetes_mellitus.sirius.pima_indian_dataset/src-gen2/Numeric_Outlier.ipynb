Q3=Dataset.quantile(0.25)
Q1=Dataset.quantile(0.75)

print(IQR=Q3-Q1)
whisker_width=1.5
lower_whisker=Q1 -(whisker_width*IQR)
upper_whisker=Q1 +(whisker_width*IQR)

df_oulier_detected=np.where(Dataset>upper_whisker,upper_whisker,np.where(Dataset<lower_whisker,lower_whisker,Dataset))
Dataset=pd.DataFrame(df_oulier_detected,columns=[ "Pregnancies", "Glucose","BloodPressure", "SkinThickness", "Insulin", "BMI", "DiabetesPedigreeFunction","Age","Outcome" ])

X=Dataset.drop(["Outcome"],axis=1)
Y=Dataset["Outcome"]

OverSampling=SMOTE(random_state=0)
x2, y2 =OverSampling.fit_resample(X,Y)
