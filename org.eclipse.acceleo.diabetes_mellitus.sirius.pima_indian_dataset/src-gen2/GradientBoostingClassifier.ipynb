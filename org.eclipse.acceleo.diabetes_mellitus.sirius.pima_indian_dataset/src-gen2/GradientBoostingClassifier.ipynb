KFold_gbc=KFold(n_splits=5)
GradientBoostingClassifier=GradientBoostingClassifier(random_state=1)
accuracy_score_gbc=cross_val_score(GradientBoostingClassifier,x2,y2,cv=KFold_gbc)
print("Accuracy of Gradient Boosting classifier",accuracy_score_gbc.mean())
DiabetesPrediction_gbc=cross_val_predict(GradientBoostingClassifier,x2,y2,cv=KFold_gbc)
accuracy_score(DiabetesPrediction_gbc,y2)

