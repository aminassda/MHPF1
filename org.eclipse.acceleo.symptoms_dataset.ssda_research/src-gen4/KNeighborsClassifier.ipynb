KNeighborsClassifier=KNeighborsClassifier(n_neighbors=9,metric="minkowski",p=2)
KNeighborsClassifier.fit(X_train,Y_train)
DiabetesPrediction=KNeighborsClassifier.predict(X_test)
confusion_matrix(DiabetesPrediction,Y_test))
print(classification_reportKNeighborsClassifier.predict(X_train),Y_train))
print(classification_report(DiabetesPrediction,Y_test)


