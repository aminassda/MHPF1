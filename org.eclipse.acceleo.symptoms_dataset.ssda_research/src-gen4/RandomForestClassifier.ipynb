RandomForestClassifier=RandomForestClassifier(random_state= 1)
grid={"max_depth":[4],
"max_features":[1,2,10],
"min_samples_split":[1,2,10],
"min_samples_leaf":[1,2,10],
"n_estimators":[100],
"criterion":["gini"]}

gsRF=GridSearchCV(estimator=RandomForestClassifier,param_grid=grid)
gsRF.fit(X_train,Y_train)
DiabetesPrediction=gsRF.predict(X_test)

confusion_matrix(DiabetesPrediction,Y_test))
print(classification_report(gsRF.predict(X_train),Y_train))
print(classification_report(DiabetesPrediction,Y_test)

