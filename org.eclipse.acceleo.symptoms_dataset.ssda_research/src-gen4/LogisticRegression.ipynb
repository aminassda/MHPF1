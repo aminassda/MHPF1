LogisticRegression=LogisticRegression(random_state= 0) 
solver=['newton-cg', 'lbfgs', 'liblinear'] 
penalty=["l2"] 
C=[100, 10, 1.0, 0.1, 0.01] 
grid = dict(solver=solver,penalty=penalty,C=C) 
gsLD=GridSearchCV(estimator=LogisticRegression,param_grid=grid) 
gsLD.fit(X_train,Y_train)
DiabetesPrediction=gsLD.predict(X_test)

confusion_matrix(DiabetesPrediction,Y_test))
print(classification_report(gsLD.predict(X_train),Y_train))
print(classification_report(DiabetesPrediction,Y_test)

