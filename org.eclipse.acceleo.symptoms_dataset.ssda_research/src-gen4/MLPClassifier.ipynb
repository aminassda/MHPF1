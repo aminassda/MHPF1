MLPClassifier=MLPClassifier(hidden_layer_status=10,activation="relu",solver="adam",random_state= 1)
MLPClassifier.fit(X_train,Y_train)
DiabetesPrediction=MLPClassifier.predict(X_test)

confusion_matrix(DiabetesPrediction,Y_test)
print(classification_report(MLPClassifier.predict(X_train),Y_train))
print(classification_report(DiabetesPrediction,Y_test)

