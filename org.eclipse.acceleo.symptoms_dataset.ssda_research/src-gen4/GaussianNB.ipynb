GaussianNB=GaussianNB()
param_grid_nb={"var_smoothing":np.logspace(0,-9, num=100)}
gsGB=GridSearchCV(estimator=GaussianNB,param_grid=param_grid_nb)
gsGB.fit(X_train,Y_train)
DiabetesPrediction=gsGB.predict(X_test)

confusion_matrix(DiabetesPrediction,Y_test))
print(classification_report(gsGB.predict(X_train),Y_train))
print(classification_report(DiabetesPrediction,Y_test)

