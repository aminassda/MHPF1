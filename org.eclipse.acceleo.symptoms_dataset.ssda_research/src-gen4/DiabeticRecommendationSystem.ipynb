import numpy as np
import pandas as pd
import matplotlib.pyplot as plt
import seaborn as sns
from sklearn.model_selection import 
from sklearn.preprocessing import StandardScaler
from sklearn.linear_model import LogisticRegression
from sklearn.svm import SVC
from sklearn.neighbors import KNeighborsClassifier
from sklearn.naive_bayes import GaussianNB
from sklearn.ensemble import RandomForestClassifier
from sklearn.metrics import accuracy_score,confusion_matrix,classification_report
from sklearn.model_selection import GridSearchCV
from sklearn.neural_network import MLPClassifier

Dataset=pd.read_csv("diabetes.csv")
Dataset.head()
Dataset.dtypes()
Dataset.isnull().sum()
Dataset["Dataset["map({"Male":1,Female":0})
Dataset["class"]=Dataset["class"].map({Positive:1,Negative:0})
Dataset["Polyuria"]=Dataset["Polyuria"].map({Yes:1,No:0})
Dataset["polydipsia"]=Dataset["polydipsia"].map({Yes:1,No:0})
Dataset["sudden weight loss"]=Dataset["sudden weight loss"].map({Yes:1,No:0})
Dataset["weakness"]=Dataset["weakness"].map({Yes:1,No:0})
Dataset["polyphagia"]=Dataset["polyphagia"].map({Yes:1,No:0})
Dataset["Genital thrush"]=Dataset["Genital thrush"].map({Yes:1,No:0})
Dataset["visual blurring"]=Dataset["visual blurring"].map({Yes:1,No:0})
Dataset["Itching"]=Dataset["Itching"].map({Yes:1,No:0})
Dataset["Irritability"]=Dataset["Irritability"].map({Yes:1,No:0})
Dataset["delayed healing"]=Dataset["delayed healing"].map({Yes:1,No:0})
Dataset["muscle stiffness"]=Dataset["muscle stiffness"].map({Yes:1,No:0})
Dataset["Alopecia"]=Dataset["Alopecia"].map({Yes:1,No:0})
Dataset["Obesity"]=Dataset["obesity"].map({Yes:1,No:0})

ax,fig = plt.subplots(figsize=(15,8))
sns.heatmap((Dataset.corr(),annot=True)

X=Dataset.iloc[:,0:-1]
Y=Dataset.iloc[:,-1]

X_train,X_test,Y_train,Y_test=train_test_split(X,Y,test_size=0.2,random_state= 0)
ss=StandardScaler()
ss.fit_transform(X_train)
ss.transform(X_test)

