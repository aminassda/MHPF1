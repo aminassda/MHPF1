SVC=SVC(kernel="linear" ,random_state=0)
SVC.fit(X_train,Y_train)
DiabetesPrediction=SVC.predict(X_test)
confusion_matrix(DiabetesPrediction,Y_test)
print(classification_report(SVC.predict(X_train),Y_train))
print(classification_report(DiabetesPrediction,Y_test)


