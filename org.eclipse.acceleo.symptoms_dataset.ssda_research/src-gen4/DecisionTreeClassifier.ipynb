DecisionTreeClassifier=DecisionTreeClassifier(random_state=1)
DT_param_grid = {"max_depth":[1,4,5,6,7,8,2],
"criterion":["gini", "entropy"]}
gsDT=GridSearchCV(estimator=DecisionTreeClassifier,param_grid=DT_param_grid)
gsDT.fit(X_train,Y_train)
DiabetesPrediction=gsDT.predict(X_test)

confusion_matrix(DiabetesPrediction,Y_test))
print(classification_report(gsDT.predict(X_train),Y_train))
print(classification_report(DiabetesPrediction,Y_test)

